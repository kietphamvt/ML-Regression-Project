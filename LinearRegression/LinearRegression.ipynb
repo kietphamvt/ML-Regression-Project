{
 "cells": [
  {
   "cell_type": "code",
   "execution_count": 38,
   "metadata": {},
   "outputs": [],
   "source": [
    "import numpy as np\n",
    "import pandas as pd\n",
    "import matplotlib.pyplot as plt"
   ]
  },
  {
   "cell_type": "code",
   "execution_count": 39,
   "metadata": {},
   "outputs": [],
   "source": [
    "data = pd.read_csv('data.csv')\n",
    "data = data.fillna(0)\n",
    "Y = data['price'].to_numpy()\n",
    "data['age'] = 2022 - data[['yr_built','yr_renovated']].max(axis=1)\n",
    "data = data.drop(columns=['id','date','zipcode','yr_built','yr_renovated'])\n",
    "X = data.to_numpy() \n",
    "N, M = X.shape \n",
    "X = np.concatenate([np.ones([N, 1]), X], axis=1)\n",
    "M = M + 1"
   ]
  },
  {
   "cell_type": "code",
   "execution_count": 40,
   "metadata": {},
   "outputs": [],
   "source": [
    "# Accuracy Test\n",
    "def Precision(Xtest, Ytest, w, eps): \n",
    "    res = 0.0\n",
    "    for i in range(len(Xtest)):\n",
    "        if (abs(np.matmul(Xtest[i], w.T) - Ytest[i]) <= eps):\n",
    "            res += 1\n",
    "    return res / len(Xtest) * 100"
   ]
  },
  {
   "cell_type": "code",
   "execution_count": 41,
   "metadata": {},
   "outputs": [],
   "source": [
    "# Normalize\n",
    "for i in range(1, M):\n",
    "    mean = np.average(X[:,i]) \n",
    "    stan = np.std(X[:,i]) \n",
    "    X[:,i] = (X[:,i] - mean) / stan\n",
    "\n",
    "Y = np.log(Y)"
   ]
  },
  {
   "cell_type": "code",
   "execution_count": 42,
   "metadata": {},
   "outputs": [
    {
     "name": "stdout",
     "output_type": "stream",
     "text": [
      "100.0\n",
      "54.15986949429038\n",
      "4.567699836867863\n",
      "0.8156606851549755\n"
     ]
    }
   ],
   "source": [
    "# Linear Regression with Numpy\n",
    "Ntrain = 21000\n",
    "Xtrain = X[:Ntrain]\n",
    "Ytrain = np.matrix(Y[:Ntrain])\n",
    "Xtest = X[Ntrain:]\n",
    "Ytest = np.matrix(Y[Ntrain:])\n",
    "w = np.ones([1,M])\n",
    "w_pre = w\n",
    "alpha = 0.1\n",
    "for iter in range(100000):\n",
    "    T = np.subtract(np.matmul(Xtrain,w.T), Ytrain.T)\n",
    "    w = np.subtract(w, (alpha / Ntrain) * np.matmul(Xtrain.T, T).T)\n",
    "    if (w_pre == w).all(): \n",
    "        break\n",
    "    w_pre = w\n",
    "    # print((1/(2*Xtrain.shape[0])) * np.sum(np.square(np.subtract(np.matmul(Xtrain,w.T), Ytrain.T))))\n",
    "\n",
    "# w = np.linalg.inv(np.matmul(Xtrain.T,Xtrain)) @ Xtrain.T @ Ytrain.T\n",
    "\n",
    "print(Precision(Xtest,Ytest.T,w,1))\n",
    "print(Precision(Xtest,Ytest.T,w,0.1))\n",
    "print(Precision(Xtest,Ytest.T,w,0.01))\n",
    "print(Precision(Xtest,Ytest.T,w,0.001))"
   ]
  },
  {
   "cell_type": "code",
   "execution_count": 45,
   "metadata": {},
   "outputs": [
    {
     "name": "stdout",
     "output_type": "stream",
     "text": [
      "0.0\n",
      "0.0\n",
      "0.0\n",
      "0.0\n",
      "[[ 1.         -0.31349027 -1.47395936 ... -0.98712683 -0.22500576\n",
      "   0.81184008]\n",
      " [ 1.          1.974598    0.67648506 ... -0.06792261 -0.29917195\n",
      "   2.09628635]\n",
      " [ 1.          0.08147735 -0.39873715 ...  1.20145463 -0.01594868\n",
      "  -0.16017331]\n",
      " ...\n",
      " [ 1.         -0.51778387 -0.39873715 ... -0.97253628 -0.18856361\n",
      "  -0.50732095]\n",
      " [ 1.         -0.89913191 -0.39873715 ... -1.1476228  -0.19588867\n",
      "  -0.12545854]\n",
      " [ 1.          0.35386881  1.75170727 ... -0.46186728  0.84756547\n",
      "   0.53412197]] [12.95984445 14.05058268 13.25339164 ... 12.76568843 12.25486281\n",
      " 13.41503299]\n"
     ]
    }
   ],
   "source": [
    "#Linear Regression with Sklearn\n",
    "from sklearn.linear_model import LinearRegression\n",
    "from sklearn.model_selection import train_test_split\n",
    "Xtrain, Xtest, Ytrain, Ytest = train_test_split(X, Y)\n",
    "reg = LinearRegression()\n",
    "reg = reg.fit(Xtrain, Ytrain.T)\n",
    "reg.coef_ = np.matrix(reg.coef_)\n",
    "print(Precision(Xtest,Ytest.T,reg.coef_,1))\n",
    "print(Precision(Xtest,Ytest.T,reg.coef_,0.1))\n",
    "print(Precision(Xtest,Ytest.T,reg.coef_,0.01))\n",
    "print(Precision(Xtest,Ytest.T,reg.coef_,0.001))"
   ]
  }
 ],
 "metadata": {
  "kernelspec": {
   "display_name": "Python 3.9.4 ('base')",
   "language": "python",
   "name": "python3"
  },
  "language_info": {
   "codemirror_mode": {
    "name": "ipython",
    "version": 3
   },
   "file_extension": ".py",
   "mimetype": "text/x-python",
   "name": "python",
   "nbconvert_exporter": "python",
   "pygments_lexer": "ipython3",
   "version": "3.9.4"
  },
  "orig_nbformat": 4,
  "vscode": {
   "interpreter": {
    "hash": "c42d99d755d00efaf066b964ceed011a4027ae5af520c8ef8190b9acee3a6094"
   }
  }
 },
 "nbformat": 4,
 "nbformat_minor": 2
}
